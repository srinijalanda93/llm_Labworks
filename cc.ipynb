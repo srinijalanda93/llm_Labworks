{
 "cells": [
  {
   "cell_type": "code",
   "execution_count": null,
   "id": "257bb6e4",
   "metadata": {},
   "outputs": [],
   "source": [
    "# /Users/srinija/Downloads/calenadar-project.json"
   ]
  },
  {
   "cell_type": "code",
   "execution_count": 2,
   "id": "04f70044",
   "metadata": {},
   "outputs": [
    {
     "name": "stdout",
     "output_type": "stream",
     "text": [
      "Requirement already satisfied: google-cloud-storage in /Users/srinija/opt/anaconda3/envs/llm/lib/python3.12/site-packages (3.2.0)\n",
      "Collecting google-cloud-speech\n",
      "  Downloading google_cloud_speech-2.33.0-py3-none-any.whl.metadata (9.6 kB)\n",
      "Requirement already satisfied: google-auth<3.0.0,>=2.26.1 in /Users/srinija/opt/anaconda3/envs/llm/lib/python3.12/site-packages (from google-cloud-storage) (2.40.3)\n",
      "Requirement already satisfied: google-api-core<3.0.0,>=2.15.0 in /Users/srinija/opt/anaconda3/envs/llm/lib/python3.12/site-packages (from google-cloud-storage) (2.25.1)\n",
      "Requirement already satisfied: google-cloud-core<3.0.0,>=2.4.2 in /Users/srinija/opt/anaconda3/envs/llm/lib/python3.12/site-packages (from google-cloud-storage) (2.4.3)\n",
      "Requirement already satisfied: google-resumable-media<3.0.0,>=2.7.2 in /Users/srinija/opt/anaconda3/envs/llm/lib/python3.12/site-packages (from google-cloud-storage) (2.7.2)\n",
      "Requirement already satisfied: requests<3.0.0,>=2.22.0 in /Users/srinija/opt/anaconda3/envs/llm/lib/python3.12/site-packages (from google-cloud-storage) (2.32.4)\n",
      "Requirement already satisfied: google-crc32c<2.0.0,>=1.1.3 in /Users/srinija/opt/anaconda3/envs/llm/lib/python3.12/site-packages (from google-cloud-storage) (1.7.1)\n",
      "Requirement already satisfied: googleapis-common-protos<2.0.0,>=1.56.2 in /Users/srinija/opt/anaconda3/envs/llm/lib/python3.12/site-packages (from google-api-core<3.0.0,>=2.15.0->google-cloud-storage) (1.70.0)\n",
      "Requirement already satisfied: protobuf!=3.20.0,!=3.20.1,!=4.21.0,!=4.21.1,!=4.21.2,!=4.21.3,!=4.21.4,!=4.21.5,<7.0.0,>=3.19.5 in /Users/srinija/opt/anaconda3/envs/llm/lib/python3.12/site-packages (from google-api-core<3.0.0,>=2.15.0->google-cloud-storage) (6.31.1)\n",
      "Requirement already satisfied: proto-plus<2.0.0,>=1.22.3 in /Users/srinija/opt/anaconda3/envs/llm/lib/python3.12/site-packages (from google-api-core<3.0.0,>=2.15.0->google-cloud-storage) (1.26.1)\n",
      "Requirement already satisfied: cachetools<6.0,>=2.0.0 in /Users/srinija/opt/anaconda3/envs/llm/lib/python3.12/site-packages (from google-auth<3.0.0,>=2.26.1->google-cloud-storage) (5.5.2)\n",
      "Requirement already satisfied: pyasn1-modules>=0.2.1 in /Users/srinija/opt/anaconda3/envs/llm/lib/python3.12/site-packages (from google-auth<3.0.0,>=2.26.1->google-cloud-storage) (0.4.2)\n",
      "Requirement already satisfied: rsa<5,>=3.1.4 in /Users/srinija/opt/anaconda3/envs/llm/lib/python3.12/site-packages (from google-auth<3.0.0,>=2.26.1->google-cloud-storage) (4.9.1)\n",
      "Requirement already satisfied: charset_normalizer<4,>=2 in /Users/srinija/opt/anaconda3/envs/llm/lib/python3.12/site-packages (from requests<3.0.0,>=2.22.0->google-cloud-storage) (3.4.2)\n",
      "Requirement already satisfied: idna<4,>=2.5 in /Users/srinija/opt/anaconda3/envs/llm/lib/python3.12/site-packages (from requests<3.0.0,>=2.22.0->google-cloud-storage) (3.10)\n",
      "Requirement already satisfied: urllib3<3,>=1.21.1 in /Users/srinija/opt/anaconda3/envs/llm/lib/python3.12/site-packages (from requests<3.0.0,>=2.22.0->google-cloud-storage) (2.5.0)\n",
      "Requirement already satisfied: certifi>=2017.4.17 in /Users/srinija/opt/anaconda3/envs/llm/lib/python3.12/site-packages (from requests<3.0.0,>=2.22.0->google-cloud-storage) (2025.6.15)\n",
      "Requirement already satisfied: pyasn1>=0.1.3 in /Users/srinija/opt/anaconda3/envs/llm/lib/python3.12/site-packages (from rsa<5,>=3.1.4->google-auth<3.0.0,>=2.26.1->google-cloud-storage) (0.6.1)\n",
      "Requirement already satisfied: grpcio<2.0.0,>=1.33.2 in /Users/srinija/opt/anaconda3/envs/llm/lib/python3.12/site-packages (from google-api-core[grpc]!=2.0.*,!=2.1.*,!=2.10.*,!=2.2.*,!=2.3.*,!=2.4.*,!=2.5.*,!=2.6.*,!=2.7.*,!=2.8.*,!=2.9.*,<3.0.0,>=1.34.1->google-cloud-speech) (1.73.1)\n",
      "Requirement already satisfied: grpcio-status<2.0.0,>=1.33.2 in /Users/srinija/opt/anaconda3/envs/llm/lib/python3.12/site-packages (from google-api-core[grpc]!=2.0.*,!=2.1.*,!=2.10.*,!=2.2.*,!=2.3.*,!=2.4.*,!=2.5.*,!=2.6.*,!=2.7.*,!=2.8.*,!=2.9.*,<3.0.0,>=1.34.1->google-cloud-speech) (1.73.1)\n",
      "Downloading google_cloud_speech-2.33.0-py3-none-any.whl (335 kB)\n",
      "Installing collected packages: google-cloud-speech\n",
      "Successfully installed google-cloud-speech-2.33.0\n",
      "Note: you may need to restart the kernel to use updated packages.\n"
     ]
    }
   ],
   "source": [
    "pip install google-cloud-storage google-cloud-speech"
   ]
  },
  {
   "cell_type": "code",
   "execution_count": 3,
   "id": "84195886",
   "metadata": {},
   "outputs": [],
   "source": [
    "from google.cloud import storage, speech\n",
    "import os"
   ]
  },
  {
   "cell_type": "code",
   "execution_count": null,
   "id": "b64e03ab",
   "metadata": {},
   "outputs": [
    {
     "ename": "SyntaxError",
     "evalue": "invalid syntax (2135435695.py, line 1)",
     "output_type": "error",
     "traceback": [
      "  \u001b[36mCell\u001b[39m\u001b[36m \u001b[39m\u001b[32mIn[6]\u001b[39m\u001b[32m, line 1\u001b[39m\n\u001b[31m    \u001b[39m\u001b[31mexport GOOGLE_APPLICATION_CREDENTIALS=\"/Users/srinija/Downloads/calenadar-project.json\"\u001b[39m\n           ^\n\u001b[31mSyntaxError\u001b[39m\u001b[31m:\u001b[39m invalid syntax\n"
     ]
    }
   ],
   "source": [
    "# export GOOGLE_APPLICATION_CREDENTIALS=\"/Users/srinija/Downloads/calenadar-project.json\""
   ]
  },
  {
   "cell_type": "code",
   "execution_count": 8,
   "id": "8038527e",
   "metadata": {},
   "outputs": [
    {
     "ename": "NameError",
     "evalue": "name 'storage' is not defined",
     "output_type": "error",
     "traceback": [
      "\u001b[31m---------------------------------------------------------------------------\u001b[39m",
      "\u001b[31mNameError\u001b[39m                                 Traceback (most recent call last)",
      "\u001b[36mCell\u001b[39m\u001b[36m \u001b[39m\u001b[32mIn[8]\u001b[39m\u001b[32m, line 39\u001b[39m\n\u001b[32m     36\u001b[39m audio_file_name = \u001b[33m'\u001b[39m\u001b[33msaudio.wav\u001b[39m\u001b[33m'\u001b[39m\n\u001b[32m     37\u001b[39m output_file_name = \u001b[33m'\u001b[39m\u001b[33mtranscription.txt\u001b[39m\u001b[33m'\u001b[39m\n\u001b[32m---> \u001b[39m\u001b[32m39\u001b[39m \u001b[43mtranscribe_audio\u001b[49m\u001b[43m(\u001b[49m\u001b[43mbucket_name\u001b[49m\u001b[43m,\u001b[49m\u001b[43m \u001b[49m\u001b[43maudio_file_name\u001b[49m\u001b[43m,\u001b[49m\u001b[43m \u001b[49m\u001b[43moutput_file_name\u001b[49m\u001b[43m)\u001b[49m\n",
      "\u001b[36mCell\u001b[39m\u001b[36m \u001b[39m\u001b[32mIn[8]\u001b[39m\u001b[32m, line 3\u001b[39m, in \u001b[36mtranscribe_audio\u001b[39m\u001b[34m(bucket_name, audio_file_name, output_file_name)\u001b[39m\n\u001b[32m      1\u001b[39m \u001b[38;5;28;01mdef\u001b[39;00m\u001b[38;5;250m \u001b[39m\u001b[34mtranscribe_audio\u001b[39m(bucket_name, audio_file_name, output_file_name):\n\u001b[32m----> \u001b[39m\u001b[32m3\u001b[39m     storage_client = \u001b[43mstorage\u001b[49m.Client()\n\u001b[32m      4\u001b[39m     bucket = storage_client.bucket(bucket_name)\n\u001b[32m      6\u001b[39m     audio_blob = bucket.blob(audio_file_name)\n",
      "\u001b[31mNameError\u001b[39m: name 'storage' is not defined"
     ]
    }
   ],
   "source": [
    " \n",
    "def transcribe_audio(bucket_name, audio_file_name, output_file_name):\n",
    "    \n",
    "    storage_client = storage.Client()\n",
    "    bucket = storage_client.bucket(bucket_name)\n",
    "    \n",
    "    audio_blob = bucket.blob(audio_file_name)\n",
    "    audio_blob.download_to_filename('/tmp/' + audio_file_name)\n",
    "    \n",
    "    speech_client = speech.SpeechClient()\n",
    "    \n",
    "    with open('/tmp/' + audio_file_name, 'rb') as audio_file:\n",
    "        audio_content = audio_file.read()\n",
    "    \n",
    "    audio = speech.RecognitionAudio(content=audio_content)\n",
    "    config = speech.RecognitionConfig(\n",
    "        encoding=speech.RecognitionConfig.AudioEncoding.LINEAR16,\n",
    "        sample_rate_hertz=44000,\n",
    "        language_code=\"en-US\",\n",
    "    )\n",
    "    \n",
    "    response = speech_client.recognize(config=config, audio=audio)\n",
    "    \n",
    "    transcript = \"\"\n",
    "    for result in response.results:\n",
    "        transcript += result.alternatives[0].transcript + \"\\n\"\n",
    "    \n",
    "    with open('/tmp/' + output_file_name, 'w') as output_file:\n",
    "        output_file.write(transcript)\n",
    "    \n",
    "    output_blob = bucket.blob(output_file_name)\n",
    "    output_blob.upload_from_filename('/tmp/' + output_file_name)\n",
    "    \n",
    "    print(f'Transcription saved to gs://{bucket_name}/{output_file_name}')\n",
    " \n",
    "bucket_name = 'jk1997'\n",
    "audio_file_name = 'saudio.wav'\n",
    "output_file_name = 'transcription.txt'\n",
    " \n",
    "transcribe_audio(bucket_name, audio_file_name, output_file_name)"
   ]
  },
  {
   "cell_type": "code",
   "execution_count": null,
   "id": "564ea54f",
   "metadata": {},
   "outputs": [],
   "source": []
  }
 ],
 "metadata": {
  "kernelspec": {
   "display_name": "llm",
   "language": "python",
   "name": "python3"
  },
  "language_info": {
   "codemirror_mode": {
    "name": "ipython",
    "version": 3
   },
   "file_extension": ".py",
   "mimetype": "text/x-python",
   "name": "python",
   "nbconvert_exporter": "python",
   "pygments_lexer": "ipython3",
   "version": "3.12.11"
  }
 },
 "nbformat": 4,
 "nbformat_minor": 5
}
